{
 "cells": [
  {
   "cell_type": "markdown",
   "id": "c2569167",
   "metadata": {},
   "source": [
    "#### 1번 문제 : 5 와 2.5 두 수에 대해 사칙연산 결과값을 출력하고 각각 데이터형을 출력하세요\n"
   ]
  },
  {
   "cell_type": "code",
   "execution_count": 10,
   "id": "b4b2a814",
   "metadata": {},
   "outputs": [
    {
     "name": "stdout",
     "output_type": "stream",
     "text": [
      "7.5\n",
      "2.5\n",
      "12.5\n",
      "2.0\n"
     ]
    }
   ],
   "source": [
    "print(5+2.5)\n",
    "print(5-2.5)\n",
    "print(5*2.5)\n",
    "print(5/2.5)"
   ]
  },
  {
   "cell_type": "code",
   "execution_count": 9,
   "id": "d6d87683",
   "metadata": {},
   "outputs": [
    {
     "name": "stdout",
     "output_type": "stream",
     "text": [
      "<class 'float'>\n",
      "<class 'float'>\n",
      "<class 'float'>\n",
      "<class 'float'>\n"
     ]
    }
   ],
   "source": [
    "print(type(5+2.5))\n",
    "print(type(5-2.5))\n",
    "print(type(5*2.5))\n",
    "print(type(5/2.5))"
   ]
  },
  {
   "cell_type": "markdown",
   "id": "4e536f3d",
   "metadata": {},
   "source": [
    "# \n",
    "#### 2번 문제 : 10을 3으로 나눈 값을 출력하고 데이터형을 출력하세요"
   ]
  },
  {
   "cell_type": "code",
   "execution_count": 11,
   "id": "b503dea5",
   "metadata": {},
   "outputs": [
    {
     "name": "stdout",
     "output_type": "stream",
     "text": [
      "3.3333333333333335\n"
     ]
    }
   ],
   "source": [
    "print(10/3)"
   ]
  },
  {
   "cell_type": "code",
   "execution_count": 7,
   "id": "3afc33b1",
   "metadata": {},
   "outputs": [
    {
     "name": "stdout",
     "output_type": "stream",
     "text": [
      "<class 'float'>\n"
     ]
    }
   ],
   "source": [
    "print(type(10/3))"
   ]
  },
  {
   "cell_type": "markdown",
   "id": "3897c587",
   "metadata": {},
   "source": [
    "# \n",
    "#### 3번 문제 : 문자열 \"Hello\" 와  정수 5에 대해 사칙연산을 수행하여 각각 출력해보세요(출력 결과에 대해 왜 그렇게 됐는지 설명해보세요)"
   ]
  },
  {
   "cell_type": "code",
   "execution_count": 18,
   "id": "9a66922f",
   "metadata": {},
   "outputs": [
    {
     "ename": "TypeError",
     "evalue": "can only concatenate str (not \"int\") to str",
     "output_type": "error",
     "traceback": [
      "\u001b[1;31m---------------------------------------------------------------------------\u001b[0m",
      "\u001b[1;31mTypeError\u001b[0m                                 Traceback (most recent call last)",
      "\u001b[1;32m~\\AppData\\Local\\Temp\\ipykernel_3600\\2673324130.py\u001b[0m in \u001b[0;36m<module>\u001b[1;34m\u001b[0m\n\u001b[1;32m----> 1\u001b[1;33m \u001b[0mprint\u001b[0m\u001b[1;33m(\u001b[0m\u001b[1;34m\"Hello\"\u001b[0m \u001b[1;33m+\u001b[0m \u001b[0mint\u001b[0m\u001b[1;33m(\u001b[0m\u001b[1;36m5\u001b[0m\u001b[1;33m)\u001b[0m\u001b[1;33m)\u001b[0m\u001b[1;33m\u001b[0m\u001b[1;33m\u001b[0m\u001b[0m\n\u001b[0m",
      "\u001b[1;31mTypeError\u001b[0m: can only concatenate str (not \"int\") to str"
     ]
    }
   ],
   "source": [
    "print(\"Hello\" + int(5))"
   ]
  },
  {
   "cell_type": "code",
   "execution_count": 19,
   "id": "6c29090a",
   "metadata": {},
   "outputs": [
    {
     "ename": "TypeError",
     "evalue": "unsupported operand type(s) for -: 'str' and 'int'",
     "output_type": "error",
     "traceback": [
      "\u001b[1;31m---------------------------------------------------------------------------\u001b[0m",
      "\u001b[1;31mTypeError\u001b[0m                                 Traceback (most recent call last)",
      "\u001b[1;32m~\\AppData\\Local\\Temp\\ipykernel_3600\\59098802.py\u001b[0m in \u001b[0;36m<module>\u001b[1;34m\u001b[0m\n\u001b[1;32m----> 1\u001b[1;33m \u001b[0mprint\u001b[0m\u001b[1;33m(\u001b[0m\u001b[1;34m\"Hello\"\u001b[0m \u001b[1;33m-\u001b[0m \u001b[0mint\u001b[0m\u001b[1;33m(\u001b[0m\u001b[1;36m5\u001b[0m\u001b[1;33m)\u001b[0m\u001b[1;33m)\u001b[0m\u001b[1;33m\u001b[0m\u001b[1;33m\u001b[0m\u001b[0m\n\u001b[0m",
      "\u001b[1;31mTypeError\u001b[0m: unsupported operand type(s) for -: 'str' and 'int'"
     ]
    }
   ],
   "source": [
    "print(\"Hello\" - int(5))"
   ]
  },
  {
   "cell_type": "code",
   "execution_count": 20,
   "id": "fa5dbfae",
   "metadata": {},
   "outputs": [
    {
     "name": "stdout",
     "output_type": "stream",
     "text": [
      "HelloHelloHelloHelloHello\n"
     ]
    }
   ],
   "source": [
    "print(\"Hello\" * int(5))"
   ]
  },
  {
   "cell_type": "code",
   "execution_count": 21,
   "id": "d4d30b8d",
   "metadata": {},
   "outputs": [
    {
     "ename": "TypeError",
     "evalue": "unsupported operand type(s) for /: 'str' and 'int'",
     "output_type": "error",
     "traceback": [
      "\u001b[1;31m---------------------------------------------------------------------------\u001b[0m",
      "\u001b[1;31mTypeError\u001b[0m                                 Traceback (most recent call last)",
      "\u001b[1;32m~\\AppData\\Local\\Temp\\ipykernel_3600\\3682649511.py\u001b[0m in \u001b[0;36m<module>\u001b[1;34m\u001b[0m\n\u001b[1;32m----> 1\u001b[1;33m \u001b[0mprint\u001b[0m\u001b[1;33m(\u001b[0m\u001b[1;34m\"Hello\"\u001b[0m \u001b[1;33m/\u001b[0m \u001b[0mint\u001b[0m\u001b[1;33m(\u001b[0m\u001b[1;36m5\u001b[0m\u001b[1;33m)\u001b[0m\u001b[1;33m)\u001b[0m\u001b[1;33m\u001b[0m\u001b[1;33m\u001b[0m\u001b[0m\n\u001b[0m",
      "\u001b[1;31mTypeError\u001b[0m: unsupported operand type(s) for /: 'str' and 'int'"
     ]
    }
   ],
   "source": [
    "print(\"Hello\" / int(5))"
   ]
  },
  {
   "cell_type": "markdown",
   "id": "7553cb9f",
   "metadata": {},
   "source": [
    " 문자열과 정수값은 사칙연산이 불가능하지만 유일하게 곱셈인 *는 사용할 수 있다.\n",
    " 원리는 문자열을 n번만큼 연속으로 입력(print) 하라는 뜻이다.\n",
    " \n",
    " 비슷하게 문자열을 서로 사칙연산 할 경우에도 덧셈기호 +는 사용 가능하다.\n",
    " 문자열들을 서로 붙여 쓰라는 의미로 쓰인다."
   ]
  },
  {
   "cell_type": "markdown",
   "id": "5e1f9952",
   "metadata": {},
   "source": [
    "# \n",
    "#### 4번 문제 : 문자열 \"6\" 과 문자열 \"5\" 에 대해 사칙연산을 수행하여 각각 출력해보세요(출력 결과에 대해 왜 그렇게 됐는지 설명해보세요)"
   ]
  },
  {
   "cell_type": "code",
   "execution_count": 25,
   "id": "c86de99c",
   "metadata": {},
   "outputs": [
    {
     "name": "stdout",
     "output_type": "stream",
     "text": [
      "65\n"
     ]
    }
   ],
   "source": [
    "print(\"6\" + \"5\")"
   ]
  },
  {
   "cell_type": "code",
   "execution_count": 26,
   "id": "09290cb0",
   "metadata": {},
   "outputs": [
    {
     "ename": "TypeError",
     "evalue": "unsupported operand type(s) for -: 'str' and 'str'",
     "output_type": "error",
     "traceback": [
      "\u001b[1;31m---------------------------------------------------------------------------\u001b[0m",
      "\u001b[1;31mTypeError\u001b[0m                                 Traceback (most recent call last)",
      "\u001b[1;32m~\\AppData\\Local\\Temp\\ipykernel_3600\\3745769801.py\u001b[0m in \u001b[0;36m<module>\u001b[1;34m\u001b[0m\n\u001b[1;32m----> 1\u001b[1;33m \u001b[0mprint\u001b[0m\u001b[1;33m(\u001b[0m\u001b[1;34m\"6\"\u001b[0m \u001b[1;33m-\u001b[0m \u001b[1;34m\"5\"\u001b[0m\u001b[1;33m)\u001b[0m\u001b[1;33m\u001b[0m\u001b[1;33m\u001b[0m\u001b[0m\n\u001b[0m",
      "\u001b[1;31mTypeError\u001b[0m: unsupported operand type(s) for -: 'str' and 'str'"
     ]
    }
   ],
   "source": [
    "print(\"6\" - \"5\")"
   ]
  },
  {
   "cell_type": "code",
   "execution_count": 27,
   "id": "2f8bbae9",
   "metadata": {},
   "outputs": [
    {
     "ename": "TypeError",
     "evalue": "can't multiply sequence by non-int of type 'str'",
     "output_type": "error",
     "traceback": [
      "\u001b[1;31m---------------------------------------------------------------------------\u001b[0m",
      "\u001b[1;31mTypeError\u001b[0m                                 Traceback (most recent call last)",
      "\u001b[1;32m~\\AppData\\Local\\Temp\\ipykernel_3600\\1505341607.py\u001b[0m in \u001b[0;36m<module>\u001b[1;34m\u001b[0m\n\u001b[1;32m----> 1\u001b[1;33m \u001b[0mprint\u001b[0m\u001b[1;33m(\u001b[0m\u001b[1;34m\"6\"\u001b[0m \u001b[1;33m*\u001b[0m \u001b[1;34m\"5\"\u001b[0m\u001b[1;33m)\u001b[0m\u001b[1;33m\u001b[0m\u001b[1;33m\u001b[0m\u001b[0m\n\u001b[0m",
      "\u001b[1;31mTypeError\u001b[0m: can't multiply sequence by non-int of type 'str'"
     ]
    }
   ],
   "source": [
    "print(\"6\" * \"5\")"
   ]
  },
  {
   "cell_type": "code",
   "execution_count": 28,
   "id": "8f2a7ba0",
   "metadata": {},
   "outputs": [
    {
     "ename": "TypeError",
     "evalue": "unsupported operand type(s) for /: 'str' and 'str'",
     "output_type": "error",
     "traceback": [
      "\u001b[1;31m---------------------------------------------------------------------------\u001b[0m",
      "\u001b[1;31mTypeError\u001b[0m                                 Traceback (most recent call last)",
      "\u001b[1;32m~\\AppData\\Local\\Temp\\ipykernel_3600\\4047731596.py\u001b[0m in \u001b[0;36m<module>\u001b[1;34m\u001b[0m\n\u001b[1;32m----> 1\u001b[1;33m \u001b[0mprint\u001b[0m\u001b[1;33m(\u001b[0m\u001b[1;34m\"6\"\u001b[0m \u001b[1;33m/\u001b[0m \u001b[1;34m\"5\"\u001b[0m\u001b[1;33m)\u001b[0m\u001b[1;33m\u001b[0m\u001b[1;33m\u001b[0m\u001b[0m\n\u001b[0m",
      "\u001b[1;31mTypeError\u001b[0m: unsupported operand type(s) for /: 'str' and 'str'"
     ]
    }
   ],
   "source": [
    "print(\"6\" / \"5\")"
   ]
  },
  {
   "cell_type": "markdown",
   "id": "d4ea7d7d",
   "metadata": {},
   "source": [
    "문자열에 대한 사칙연산은 오로지 덧셈기호(+) 만이 허용된다. 각각의 문자열을 붙여쓰라는 의미가 되며\n",
    "띄어쓰기도 문자열에 포함된다. 그렇기에 \"3\"+\"5\" 라는 결과값은 3과 5를 붙여 쓴 35, 가 된다. "
   ]
  },
  {
   "cell_type": "markdown",
   "id": "026050c5",
   "metadata": {},
   "source": [
    "# \n",
    "#### 5번 문제 : int 데이터형인 3 을  int 데이터형 5 으로 나눈 데이터형을 출력해보고 왜 그렇게 나왔는지 설명해보세요"
   ]
  },
  {
   "cell_type": "code",
   "execution_count": 6,
   "id": "d1039855",
   "metadata": {},
   "outputs": [
    {
     "name": "stdout",
     "output_type": "stream",
     "text": [
      "0.6\n",
      "<class 'float'>\n"
     ]
    }
   ],
   "source": [
    "print(3/5)\n",
    "print(type(3/5))"
   ]
  },
  {
   "cell_type": "markdown",
   "id": "26b7b8a4",
   "metadata": {},
   "source": [
    "\"나눈다\" 라는 기호는 총 2가지의 결과가 있다. 결과값, 혹은 나머지라는 2가지 값이다.\n",
    "여기서 나누기 기호 \"/\"는 결과값만을 보여주기에 자연스레 소수점의 결과가 도출된다.\n",
    "또한 나눗셈의 경우에는 자연수만을 의미하지 않고 소수점까지도 최대한 나누려 하기에 int라는 데이터 형식에서 벗어나 float의 형식으로 자동 변환된다."
   ]
  }
 ],
 "metadata": {
  "kernelspec": {
   "display_name": "Python 3 (ipykernel)",
   "language": "python",
   "name": "python3"
  },
  "language_info": {
   "codemirror_mode": {
    "name": "ipython",
    "version": 3
   },
   "file_extension": ".py",
   "mimetype": "text/x-python",
   "name": "python",
   "nbconvert_exporter": "python",
   "pygments_lexer": "ipython3",
   "version": "3.9.13"
  }
 },
 "nbformat": 4,
 "nbformat_minor": 5
}
