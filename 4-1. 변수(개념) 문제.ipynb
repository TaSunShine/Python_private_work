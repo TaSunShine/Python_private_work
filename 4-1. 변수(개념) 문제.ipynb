{
 "cells": [
  {
   "attachments": {
    "image.png": {
     "image/png": "[encoded data removed]"
    }
   },
   "cell_type": "markdown",
   "id": "a6919063",
   "metadata": {},
   "source": [
    "### 1번 문제 : 전주 동물원 입장료가 다음과 같다. \n",
    "![image.png](attachment:image.png)\n",
    "#### \n",
    "#### 1-1. 어른 2명, 청소년 3명, 어린이 1명에 대한 동물원 입장료를 변수를 사용하여 출력해보세요."
   ]
  },
  {
   "cell_type": "code",
   "execution_count": 75,
   "id": "d57f9ce8",
   "metadata": {},
   "outputs": [
    {
     "name": "stdout",
     "output_type": "stream",
     "text": [
      "일반 티켓의 구매 갯수를 입력해주세요 1\n",
      "청소년/군인 티켓의 구매 갯수를 입력해주세요 0\n",
      "어린이 티켓의 구매 갯수를 입력해주세요 20\n",
      "일반 :  1 명, 청소년/군인 :  0 명, 어린이 : 20 명으로 총 입장료는  16100 원 입니다.\n"
     ]
    }
   ],
   "source": [
    "일반 = 3000\n",
    "청소년_군인 = 2000\n",
    "어린이 = 1000\n",
    "\n",
    "일반_Special = 2100\n",
    "청소년_군인_Spcial = 1400\n",
    "어린이_Special = 700\n",
    "\n",
    "\n",
    "\n",
    "일반_Count = int(input(\"일반 티켓의 구매 갯수를 입력해주세요 \"))\n",
    "청소년_군인_Count = int(input(\"청소년/군인 티켓의 구매 갯수를 입력해주세요 \"))\n",
    "어린이_Count = int(input(\"어린이 티켓의 구매 갯수를 입력해주세요 \"))\n",
    "\n",
    "\n",
    "\n",
    "if 일반_Count >= 20:\n",
    "    일반_Count * 일반_Special\n",
    "     \n",
    "if 청소년_군인_Count >= 20:\n",
    "    청소년_군인_Count * 청소년_군인_Spcial\n",
    "    \n",
    "if 어린이_Count >= 20:\n",
    "    어린이_Count * 어린이_Special\n",
    "    \n",
    "if (일반_Count>=20) or (청소년_군인_Count>=20) or (어린이_Count>=20):\n",
    "    티켓_Total = (일반_Special * 일반_Count) + (청소년_군인_Spcial * 청소년_군인_Count) + (어린이_Special * 어린이_Count)\n",
    "else:\n",
    "    티켓_Total = (일반 * 일반_Count) + (청소년_군인 * 청소년_군인_Count) + (어린이 * 어린이_Count)\n",
    " \n",
    "print(\"일반 : \", 일반_Count , \"명,\" , \"청소년/군인 : \", 청소년_군인_Count , \"명,\" , \"어린이 :\", 어린이_Count , \"명으로 총 입장료는 \",티켓_Total, \"원 입니다.\")"
   ]
  },
  {
   "cell_type": "markdown",
   "id": "c9e2e816",
   "metadata": {},
   "source": [
    "# 일반 = 3000\n",
    "청소년_군인 = 2000\n",
    "어린이 = 1000\n",
    "\n",
    "print(\"일반 : 2명, 청소년 : 3명, 어린이 : 1명 으로 총 입장료는 일반 * 2+ 청소년_군인 * 3 + 어린이 * 1  ,원 입니다.\")"
   ]
  },
  {
   "cell_type": "markdown",
   "id": "7caa63c8",
   "metadata": {},
   "source": [
    "#### \n",
    "#### 1-2. 만약 위와 같은 전주 동물원 입장료를 계산해주는 프로그램을 만들어야 한다고 하자. 그렇다면\n",
    "#### - 1. 무엇이 변수로 설정되어야 하는지 작성해보세요\n",
    "#### - 2. 각 변수의 데이터형과 범위를  작성해보세요"
   ]
  },
  {
   "cell_type": "markdown",
   "id": "6ec71cd1",
   "metadata": {},
   "source": [
    "티켓을 사는 갯수와 티켓의 개수만큼의 총합을 나타내는 표시가 변수로 지정되어야한다!"
   ]
  },
  {
   "cell_type": "code",
   "execution_count": null,
   "id": "c09c1fa5",
   "metadata": {},
   "outputs": [],
   "source": []
  },
  {
   "cell_type": "markdown",
   "id": "cb0350f5",
   "metadata": {},
   "source": [
    "#### \n",
    "#### 1-3. 군인이 단체로 30명, 어른들이 단체로 25명 왔다면 변수를 사용하여 총 입장료를 출력해보세요"
   ]
  },
  {
   "cell_type": "code",
   "execution_count": 45,
   "id": "d30f8c97",
   "metadata": {},
   "outputs": [
    {
     "name": "stdout",
     "output_type": "stream",
     "text": [
      "2\n",
      "일반티켓의 수를 입력해주세요. \n"
     ]
    }
   ],
   "source": [
    "print(\"일반티켓의 수를 입력해주세요. \" + input(Tkt_a))"
   ]
  },
  {
   "cell_type": "code",
   "execution_count": 3,
   "id": "4154c0f0",
   "metadata": {},
   "outputs": [
    {
     "name": "stdout",
     "output_type": "stream",
     "text": [
      "군인 : 25명, 어른 : 30명 으로 총 입장료는 94500 원 입니다.\n"
     ]
    }
   ],
   "source": [
    "print(\"군인 : 25명, 어른 : 30명 으로 총 입장료는 94500 원 입니다.\")"
   ]
  },
  {
   "cell_type": "markdown",
   "id": "fdcd52aa",
   "metadata": {},
   "source": [
    "# \n",
    "### 2번 문제 : 이름과 전화번호 그리고 주소를 변수로 입력받아 다음과 같이 출력해보세요"
   ]
  },
  {
   "cell_type": "code",
   "execution_count": null,
   "id": "586a0a2d",
   "metadata": {},
   "outputs": [],
   "source": []
  },
  {
   "cell_type": "code",
   "execution_count": 6,
   "id": "37825184",
   "metadata": {},
   "outputs": [
    {
     "name": "stdout",
     "output_type": "stream",
     "text": [
      "이름 :  고영민\n",
      "전화번호 :  010-7313-5647\n",
      "주소 :  천잠로 303 공학 1관 425호\n"
     ]
    }
   ],
   "source": []
  },
  {
   "cell_type": "markdown",
   "id": "8826cd3d",
   "metadata": {},
   "source": [
    "#### \n",
    "#### 위의 변수들의 데이터형과 범위를 작성해보세요"
   ]
  },
  {
   "cell_type": "code",
   "execution_count": null,
   "id": "e006c992",
   "metadata": {},
   "outputs": [],
   "source": []
  },
  {
   "cell_type": "code",
   "execution_count": null,
   "id": "681453c0",
   "metadata": {},
   "outputs": [],
   "source": []
  },
  {
   "attachments": {
    "image.png": {
     "image/png": "[encoded data removed]"
    }
   },
   "cell_type": "markdown",
   "id": "7ab05532",
   "metadata": {},
   "source": [
    "# \n",
    "### 3번 문제 : 다음과 같이 대학 강의명과 각 강의에 대한 학점표가 있다.\n",
    "![image.png](attachment:image.png)\n",
    "#### 3-1. 강좌명을 변수로 하고 학점값을 대입한 변수들을 선언해보세요"
   ]
  },
  {
   "cell_type": "code",
   "execution_count": null,
   "id": "b870350c",
   "metadata": {},
   "outputs": [],
   "source": []
  },
  {
   "cell_type": "code",
   "execution_count": 7,
   "id": "3ffdddbd",
   "metadata": {},
   "outputs": [
    {
     "name": "stdout",
     "output_type": "stream",
     "text": [
      "보험과 사회 : 3 학점\n",
      "지구의 이해 : 3 학점\n",
      "현대사회와 장애인의 이해 : 3 학점\n",
      "화학과 생활 : 3 학점\n",
      "동양고전의 이해 : 3 학점\n"
     ]
    }
   ],
   "source": []
  },
  {
   "cell_type": "markdown",
   "id": "5a0cf054",
   "metadata": {},
   "source": [
    "#### \n",
    "#### 3-2. 지구의 이해와 동양고전의 이해를 듣는 수강생의 총 학점을 변수를 사용하여 출력해보세요"
   ]
  },
  {
   "cell_type": "code",
   "execution_count": null,
   "id": "65e6b3ae",
   "metadata": {},
   "outputs": [],
   "source": []
  },
  {
   "cell_type": "code",
   "execution_count": 8,
   "id": "4d7cb400",
   "metadata": {},
   "outputs": [
    {
     "name": "stdout",
     "output_type": "stream",
     "text": [
      "지구의 이해와 동양고전의 이해를 듣는 수강생의 총 학점 : 6\n"
     ]
    }
   ],
   "source": []
  },
  {
   "cell_type": "code",
   "execution_count": null,
   "id": "ff424da9",
   "metadata": {},
   "outputs": [],
   "source": []
  }
 ],
 "metadata": {
  "kernelspec": {
   "display_name": "Python 3 (ipykernel)",
   "language": "python",
   "name": "python3"
  },
  "language_info": {
   "codemirror_mode": {
    "name": "ipython",
    "version": 3
   },
   "file_extension": ".py",
   "mimetype": "text/x-python",
   "name": "python",
   "nbconvert_exporter": "python",
   "pygments_lexer": "ipython3",
   "version": "3.9.13"
  }
 },
 "nbformat": 4,
 "nbformat_minor": 5
}
